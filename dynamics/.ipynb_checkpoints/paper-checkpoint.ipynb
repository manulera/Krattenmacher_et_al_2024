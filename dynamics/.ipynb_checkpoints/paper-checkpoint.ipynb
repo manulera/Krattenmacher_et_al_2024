{
 "cells": [
  {
   "cell_type": "code",
   "execution_count": 2,
   "id": "9e553ae2",
   "metadata": {},
   "outputs": [
    {
     "ename": "NameError",
     "evalue": "name 'P' is not defined",
     "output_type": "error",
     "traceback": [
      "\u001b[1;31m---------------------------------------------------------------------------\u001b[0m",
      "\u001b[1;31mNameError\u001b[0m                                 Traceback (most recent call last)",
      "Cell \u001b[1;32mIn [2], line 31\u001b[0m\n\u001b[0;32m     29\u001b[0m solution \u001b[38;5;241m=\u001b[39m solveDiscrete(p,t,mt_length)\n\u001b[0;32m     30\u001b[0m accumulation \u001b[38;5;241m=\u001b[39m np\u001b[38;5;241m.\u001b[39msum(solution\u001b[38;5;241m-\u001b[39mp\u001b[38;5;241m.\u001b[39malpha,axis\u001b[38;5;241m=\u001b[39m\u001b[38;5;241m1\u001b[39m)\n\u001b[1;32m---> 31\u001b[0m speed \u001b[38;5;241m=\u001b[39m p\u001b[38;5;241m.\u001b[39mv_s \u001b[38;5;241m*\u001b[39m \u001b[43mP\u001b[49m[\u001b[38;5;241m1\u001b[39m] \u001b[38;5;241m+\u001b[39m p\u001b[38;5;241m.\u001b[39mv_s \u001b[38;5;241m*\u001b[39m (\u001b[38;5;241m1.\u001b[39m \u001b[38;5;241m-\u001b[39m P_allfree)\n\u001b[0;32m     32\u001b[0m y \u001b[38;5;241m=\u001b[39m solution[\u001b[38;5;241m-\u001b[39m\u001b[38;5;241m1\u001b[39m]\u001b[38;5;241m-\u001b[39mp\u001b[38;5;241m.\u001b[39malpha\n\u001b[0;32m     33\u001b[0m y \u001b[38;5;241m=\u001b[39m y\u001b[38;5;241m/\u001b[39my[\u001b[38;5;241m0\u001b[39m]\n",
      "\u001b[1;31mNameError\u001b[0m: name 'P' is not defined"
     ]
    }
   ],
   "source": [
    "import numpy as np\n",
    "import matplotlib.pyplot as plt\n",
    "import sys\n",
    "import os.path\n",
    "sys.path.append(\n",
    "    os.path.abspath(os.path.dirname(os.path.abspath(''))))\n",
    "\n",
    "from simulation import Parameters\n",
    "from equations import solveDiscrete, decayLengthPhysical\n",
    "from scipy.integrate import odeint\n",
    "from scipy.optimize import curve_fit\n",
    "import os\n",
    "\n",
    "# Density on single mt:\n",
    "dat = []\n",
    "mt_length = 1000\n",
    "x = np.arange(0,mt_length*0.008,0.008)\n",
    "t = np.linspace(0,250,500)\n",
    "\n",
    "beta = np.arange(0.9,0,-0.1)\n",
    "\n",
    "counter = 1\n",
    "for filename in os.listdir('./config/'):\n",
    "    for P_lose_c in [0.5]:\n",
    "        p = Parameters()\n",
    "        p.read('./config/' + filename)\n",
    "        p.beta = beta\n",
    "        p.P_lose_c = P_lose_c\n",
    "        solution = solveDiscrete(p,t,mt_length)\n",
    "        accumulation = np.sum(solution-p.alpha,axis=1)\n",
    "        speed = p.v_s * solution[:,0] + p.v_s * (1. - solution[:,0])\n",
    "        y = solution[-1]-p.alpha\n",
    "        y = y/y[0]\n",
    "        d = decayLengthPhysical(p, speed[-1])\n",
    "        ye = np.exp(-x/d)\n",
    "        a = 1 - accumulation/accumulation[-1]\n",
    "        t_const = t[np.where(a < 0.367879441)[0][0]]\n",
    "        print(counter, 'off from steady state:', (accumulation[-1]-accumulation[-2])/accumulation[-1], \n",
    "              'error in decay length:', np.max(y-ye))\n",
    "        dat.append({'alpha':p.alpha, 'beta':beta, 'omega':p.omega, 'D':p.D, 'koff':p.koff, 'decay_length':d, 't_const':t_const,\n",
    "                    'speed':speed, 'p':p, 'accumulation':accumulation, 'solution':solution})\n",
    "        counter += 1"
   ]
  },
  {
   "cell_type": "code",
   "execution_count": null,
   "id": "d3f37362",
   "metadata": {},
   "outputs": [],
   "source": [
    "colorcoded = 'beta'\n",
    "\n",
    "import matplotlib\n",
    "import matplotlib.cm as cm\n",
    "\n",
    "font = {'size'   : 18}\n",
    "\n",
    "matplotlib.rc('font', **font)\n",
    "   \n",
    "norm = matplotlib.colors.Normalize(vmin=0, vmax=3)\n",
    "cmap = cm.gist_ncar\n",
    "colors = cm.ScalarMappable(norm=norm, cmap=cmap)\n",
    "\n",
    "def setMarker(val, permitted_values):\n",
    "    if val == permitted_values[0]:\n",
    "        return '^'\n",
    "    elif val == permitted_values[1]:\n",
    "        return 'o'\n",
    "    elif val == permitted_values[2]:\n",
    "        return 'x'\n",
    "    elif val == permitted_values[3]:\n",
    "        return '>'\n",
    "    \n",
    "def mscatter(x,y,ax=None, m=None, **kw):\n",
    "    import matplotlib.markers as mmarkers\n",
    "    if not ax: ax=plt.gca()\n",
    "    sc = ax.scatter(x,y,**kw)\n",
    "    if (m is not None) and (len(m)==len(x)):\n",
    "        paths = []\n",
    "        for marker in m:\n",
    "            if isinstance(marker, mmarkers.MarkerStyle):\n",
    "                marker_obj = marker\n",
    "            else:\n",
    "                marker_obj = mmarkers.MarkerStyle(marker)\n",
    "            path = marker_obj.get_path().transformed(\n",
    "                        marker_obj.get_transform())\n",
    "            paths.append(path)\n",
    "        sc.set_paths(paths)\n",
    "    return sc\n",
    "\n",
    "def df(plotdic, key):\n",
    "    if isinstance(plotdic[0][key], float) or isinstance(plotdic[0][key], int):\n",
    "        return np.array([dic[key] for dic in plotdic])\n",
    "    else:\n",
    "        return np.array([dic[key][-1] for dic in plotdic])\n",
    "    \n",
    "def standard_plot(plotdat, xkey, ykey, xfactor, yfactor):\n",
    "    plt.figure(figsize=(7,7))\n",
    "    unique_vals = list(set([dic['D'] + dic['koff'] for dic in plotdat]))\n",
    "    print(df(plotdat,xkey))\n",
    "    mscatter(df(plotdat,xkey)*xfactor,\n",
    "         df(plotdat,ykey)*yfactor, \n",
    "         c=df(plotdat,colorcoded),\n",
    "         m=[setMarker(dic['D'] + dic['koff'], unique_vals) for dic in plotdat],\n",
    "         s=200, facecolors='none', alpha=0.6, norm=norm, cmap=cmap)\n",
    "# colors = list(set(df(plotdat,'omega')))"
   ]
  },
  {
   "cell_type": "code",
   "execution_count": null,
   "id": "fc34c81e",
   "metadata": {},
   "outputs": [],
   "source": [
    "# abc = list(filter(lambda dic: dic[\"beta\"].beta == 1, dat))\n",
    "# for i in range(0,20):\n",
    "#     plotdat[i][\"beta\"] = 0.5\n",
    "# plotdat = list(filter(lambda dic: dic[\"beta\"] == 1, dat))\n",
    "plotdat = dat"
   ]
  },
  {
   "cell_type": "code",
   "execution_count": null,
   "id": "0c59d848",
   "metadata": {},
   "outputs": [],
   "source": [
    "def saveallfigs(name):\n",
    "    plt.savefig(name + \".svg\", transparent=True)\n",
    "    plt.savefig(name + \".png\", transparent=True, bbox_inches='tight')"
   ]
  },
  {
   "cell_type": "code",
   "execution_count": null,
   "id": "24bdeb88",
   "metadata": {
    "scrolled": true
   },
   "outputs": [],
   "source": [
    "standard_plot(plotdat, 'alpha', 't_const', 1, 1)\n",
    "plt.ylabel('Time constant of accumulation (s)')\n",
    "# plt.xlabel(\"Ase1 density (1/protofilament dimer)\")\n",
    "# plt.ylim([0,25])\n",
    "saveallfigs(\"figs/ase1 density vs time constant of accumulation \")"
   ]
  },
  {
   "cell_type": "code",
   "execution_count": null,
   "id": "77998bf2",
   "metadata": {
    "scrolled": true
   },
   "outputs": [],
   "source": [
    "standard_plot(plotdat, 'alpha', 'accumulation', 1, 1)\n",
    "plt.ylabel(\"Accumulated molecules per protofilament\\n at steady-state (1)\")\n",
    "# plt.xlabel(\"Ase1 density (1/protofilament dimer)\")\n",
    "plt.ylim(0)\n",
    "saveallfigs(\"figs/ase1 density vs accumulated molecules\")\n"
   ]
  },
  {
   "cell_type": "code",
   "execution_count": null,
   "id": "4ce3c233",
   "metadata": {
    "scrolled": true
   },
   "outputs": [],
   "source": [
    "standard_plot(plotdat, 'alpha', 'decay_length', 1, 1)\n",
    "\n",
    "plt.ylabel(\"Decay length at steady-state (\\u03bcm)\")\n",
    "# plt.xlabel(\"Ase1 density (1/protofilament dimer)\")\n",
    "plt.ylim(0)\n",
    "saveallfigs(\"figs/ase1 density vs decay length\")\n"
   ]
  },
  {
   "cell_type": "code",
   "execution_count": null,
   "id": "3bfc7dee",
   "metadata": {
    "scrolled": true
   },
   "outputs": [],
   "source": [
    "standard_plot(plotdat, 'alpha', 'speed', 1, 1)\n",
    "\n",
    "plt.ylabel(\"Depolymerization speed at steady-state\\n (\\u03bcm/s)\")\n",
    "plt.ylim(0)\n",
    "saveallfigs(\"figs/ase1 density vs depolymerization speed\")"
   ]
  },
  {
   "cell_type": "code",
   "execution_count": null,
   "id": "c1636a97",
   "metadata": {},
   "outputs": [],
   "source": [
    "# filtered = list(filter(lambda condition: condition['D'] == 0.0093, plotdat))\n",
    "filtered = list(filter(lambda condition: 0.1 > condition['alpha'] > 0.05 and condition['D'] == 0.093, plotdat))\n",
    "plt.figure(figsize=(4.5,4))\n",
    "tmax = np.where(t >= 50)[0][0]\n",
    "print(tmax)\n",
    "for curve in filtered:\n",
    "    accumulation = curve[\"accumulation\"]\n",
    "    plt.plot(t[0:tmax],accumulation[0:tmax], label=str(curve[\"omega\"]), color = colors.to_rgba(curve['omega']))\n",
    "    print(curve[\"t_const\"])\n",
    "    \n",
    "plt.xlabel(\"Time (s)\")\n",
    "plt.ylabel(\"Accumulated molecules\\nper protofilament (1)\")\n",
    "saveallfigs(\"figs/time vs accumulation\")\n",
    "\n",
    "plt.figure(figsize=(4.5,4))\n",
    "for curve in filtered:\n",
    "    solution = curve[\"solution\"]\n",
    "    P_allfree = np.prod((1-solution[:,0:num_units])**num_PF, axis=1)\n",
    "    if has_factor:\n",
    "        factor_speed = 1. - solution[:,0] + (solution[:,0] * np.log(solution[:,0])) * omega\n",
    "    else:\n",
    "        factor_speed = 1. - p.omega #(1-solution[:,0]*p.omega)\n",
    "    speed = p.v_s * P_allfree + p.v_s * (1. - P_allfree) * factor_speed    \n",
    "    plt.plot(t[0:tmax],speed[0:tmax], label=str(curve[\"omega\"]), color = colors.to_rgba(curve['omega']))\n",
    "plt.xlabel(\"Time (s)\")\n",
    "plt.ylabel(\"Depolymerization speed\\n (\\u03bcm/s)\")\n",
    "saveallfigs(\"figs/time vs speed\")"
   ]
  },
  {
   "cell_type": "code",
   "execution_count": null,
   "id": "b56d978d",
   "metadata": {
    "scrolled": false
   },
   "outputs": [],
   "source": [
    "filtered = list(filter(lambda condition: 0.1 > condition['alpha'] > 0.05 and condition['D'] == 0.093, plotdat))\n",
    "plt.figure(figsize=(4.5,4))\n",
    "for curve in filtered:\n",
    "    solution = curve[\"solution\"]\n",
    "    y = solution[-1][:]\n",
    "    plt.plot(x*1000,y, color = colors.to_rgba(curve['omega']))\n",
    "\n",
    "plt.xlim([0, 3000])    \n",
    "plt.ylim(0)\n",
    "plt.xlabel(\"Distance from microtubule tip (nm)\")\n",
    "plt.ylabel(\"Ase1 density\")\n",
    "saveallfigs(\"figs/distance versus Ase1 density\")\n",
    "\n",
    "# d = decayLengthPhysical(dat[index][\"p\"], dat[index][\"speed\"][-1])\n",
    "# ye = np.exp(-x/d)\n",
    "# np.max(y-ye)\n",
    "# plt.plot(x,ye)"
   ]
  },
  {
   "cell_type": "code",
   "execution_count": null,
   "id": "a73a7238",
   "metadata": {},
   "outputs": [],
   "source": [
    "# index = 40\n",
    "\n",
    "# y = dat[index][\"solution\"][-1]-dat[index][\"alpha\"]\n",
    "# y = y/y[0]\n",
    "\n",
    "# plt.plot(x,y)\n",
    "# d = decayLengthPhysical(dat[index][\"p\"], dat[index][\"speed\"][-1])\n",
    "# ye = np.exp(-x/d)\n",
    "# np.max(y-ye)\n",
    "# plt.plot(x,ye)\n",
    "\n",
    "\n",
    "plotdata"
   ]
  },
  {
   "cell_type": "code",
   "execution_count": null,
   "id": "792e0267",
   "metadata": {},
   "outputs": [],
   "source": []
  }
 ],
 "metadata": {
  "kernelspec": {
   "display_name": "Python 3 (ipykernel)",
   "language": "python",
   "name": "python3"
  },
  "language_info": {
   "codemirror_mode": {
    "name": "ipython",
    "version": 3
   },
   "file_extension": ".py",
   "mimetype": "text/x-python",
   "name": "python",
   "nbconvert_exporter": "python",
   "pygments_lexer": "ipython3",
   "version": "3.10.7"
  }
 },
 "nbformat": 4,
 "nbformat_minor": 5
}
