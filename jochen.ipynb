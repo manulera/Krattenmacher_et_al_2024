{
 "cells": [
  {
   "cell_type": "code",
   "execution_count": null,
   "id": "118b5416",
   "metadata": {},
   "outputs": [],
   "source": [
    "import simulation\n"
   ]
  },
  {
   "cell_type": "code",
   "execution_count": null,
   "id": "46a78e7d",
   "metadata": {},
   "outputs": [],
   "source": []
  }
 ],
 "metadata": {},
 "nbformat": 4,
 "nbformat_minor": 5
}
